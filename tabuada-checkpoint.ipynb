{
 "cells": [
  {
   "cell_type": "code",
   "execution_count": 2,
   "id": "35bdc410",
   "metadata": {},
   "outputs": [
    {
     "name": "stdout",
     "output_type": "stream",
     "text": [
      "Hello World!\n"
     ]
    }
   ],
   "source": [
    "print (\"Hello World!\")"
   ]
  },
  {
   "cell_type": "code",
   "execution_count": 1,
   "id": "940bc6cf",
   "metadata": {},
   "outputs": [
    {
     "data": {
      "application/vnd.jupyter.widget-view+json": {
       "model_id": "df36a1dbb75140aa9e6c4ec865ccf894",
       "version_major": 2,
       "version_minor": 0
      },
      "text/plain": [
       "IntSlider(value=1, description='Número:', max=20, min=1)"
      ]
     },
     "metadata": {},
     "output_type": "display_data"
    },
    {
     "data": {
      "application/vnd.jupyter.widget-view+json": {
       "model_id": "5dcc54514b834c3db0fc929ad55adb05",
       "version_major": 2,
       "version_minor": 0
      },
      "text/plain": [
       "Textarea(value='Tabuada do 1:\\n1 x 1 = 1\\n1 x 2 = 2\\n1 x 3 = 3\\n1 x 4 = 4\\n1 x 5 = 5\\n1 x 6 = 6\\n1 x 7 = 7\\n1 …"
      ]
     },
     "metadata": {},
     "output_type": "display_data"
    }
   ],
   "source": [
    "# Tabuada interativa em Python\n",
    "from IPython.display import display\n",
    "import ipywidgets as widgets\n",
    "\n",
    "# Função para gerar a tabuada\n",
    "def gerar_tabuada(numero):\n",
    "    resultado = f\"Tabuada do {numero}:\\n\"\n",
    "    for i in range(1, 11):\n",
    "        resultado += f\"{numero} x {i} = {numero * i}\\n\"\n",
    "    return resultado\n",
    "\n",
    "# Função para atualizar o resultado\n",
    "def atualizar_tabuada(change):\n",
    "    numero = slider.value\n",
    "    texto.value = gerar_tabuada(numero)\n",
    "\n",
    "# Slider para selecionar o número\n",
    "slider = widgets.IntSlider(value=1, min=1, max=20, step=1, description=\"Número:\")\n",
    "slider.observe(atualizar_tabuada, names='value')\n",
    "\n",
    "# Área de texto para exibir a tabuada\n",
    "texto = widgets.Textarea(value=gerar_tabuada(slider.value), rows=12, description=\"Resultado:\")\n",
    "\n",
    "# Exibição dos widgets\n",
    "display(slider, texto)\n"
   ]
  },
  {
   "cell_type": "code",
   "execution_count": null,
   "id": "f0b5e35a",
   "metadata": {},
   "outputs": [],
   "source": []
  }
 ],
 "metadata": {
  "kernelspec": {
   "display_name": "Python 3 (ipykernel)",
   "language": "python",
   "name": "python3"
  },
  "language_info": {
   "codemirror_mode": {
    "name": "ipython",
    "version": 3
   },
   "file_extension": ".py",
   "mimetype": "text/x-python",
   "name": "python",
   "nbconvert_exporter": "python",
   "pygments_lexer": "ipython3",
   "version": "3.9.13"
  }
 },
 "nbformat": 4,
 "nbformat_minor": 5
}
