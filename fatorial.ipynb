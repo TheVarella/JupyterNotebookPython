{
 "cells": [
  {
   "cell_type": "code",
   "execution_count": 3,
   "id": "bbb418ad",
   "metadata": {},
   "outputs": [
    {
     "name": "stdout",
     "output_type": "stream",
     "text": [
      "Digite a base: 2\n",
      "Digite o expoente: 3\n",
      "2.0 elevado a 3.0 é 8.0\n"
     ]
    }
   ],
   "source": [
    "import math\n",
    "\n",
    "def calcular_exponencial(base, expoente):\n",
    "    return math.pow(base, expoente)\n",
    "\n",
    "# Entrada do usuário\n",
    "base = float(input(\"Digite a base: \"))\n",
    "expoente = float(input(\"Digite o expoente: \"))\n",
    "\n",
    "# Cálculo e exibição do resultado\n",
    "resultado = calcular_exponencial(base, expoente)\n",
    "print(f\"{base} elevado a {expoente} é {resultado}\")\n"
   ]
  },
  {
   "cell_type": "code",
   "execution_count": null,
   "id": "1ceaec61",
   "metadata": {},
   "outputs": [],
   "source": []
  }
 ],
 "metadata": {
  "kernelspec": {
   "display_name": "Python 3 (ipykernel)",
   "language": "python",
   "name": "python3"
  },
  "language_info": {
   "codemirror_mode": {
    "name": "ipython",
    "version": 3
   },
   "file_extension": ".py",
   "mimetype": "text/x-python",
   "name": "python",
   "nbconvert_exporter": "python",
   "pygments_lexer": "ipython3",
   "version": "3.9.13"
  }
 },
 "nbformat": 4,
 "nbformat_minor": 5
}
