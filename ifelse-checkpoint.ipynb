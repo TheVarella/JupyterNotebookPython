{
 "cells": [
  {
   "cell_type": "code",
   "execution_count": 4,
   "id": "967181f0",
   "metadata": {},
   "outputs": [
    {
     "name": "stdout",
     "output_type": "stream",
     "text": [
      "Digite sua idade: 4\n",
      "Você é menor de idade.\n"
     ]
    }
   ],
   "source": [
    "# Pedir ao usuário para digitar a idade\n",
    "idade = int(input(\"Digite sua idade: \"))\n",
    "\n",
    "# Verificar a categoria de idade\n",
    "if idade < 18:\n",
    "    print(\"Você é menor de idade.\")\n",
    "elif idade >= 18 and idade < 60:\n",
    "    print(\"Você é adulto.\")\n",
    "else:\n",
    "    print(\"Você é idoso.\")\n"
   ]
  },
  {
   "cell_type": "code",
   "execution_count": null,
   "id": "6cca83a1",
   "metadata": {},
   "outputs": [],
   "source": []
  },
  {
   "cell_type": "code",
   "execution_count": null,
   "id": "f8d1468a",
   "metadata": {},
   "outputs": [],
   "source": []
  }
 ],
 "metadata": {
  "kernelspec": {
   "display_name": "Python 3 (ipykernel)",
   "language": "python",
   "name": "python3"
  },
  "language_info": {
   "codemirror_mode": {
    "name": "ipython",
    "version": 3
   },
   "file_extension": ".py",
   "mimetype": "text/x-python",
   "name": "python",
   "nbconvert_exporter": "python",
   "pygments_lexer": "ipython3",
   "version": "3.9.13"
  }
 },
 "nbformat": 4,
 "nbformat_minor": 5
}
